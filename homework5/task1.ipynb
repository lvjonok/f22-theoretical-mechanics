{
 "cells": [
  {
   "cell_type": "code",
   "execution_count": 1,
   "metadata": {},
   "outputs": [
    {
     "name": "stdout",
     "output_type": "stream",
     "text": [
      "Requirement already satisfied: matplotlib in /home/leo/.local/lib/python3.8/site-packages (3.5.3)\n",
      "Requirement already satisfied: numpy in /home/leo/.local/lib/python3.8/site-packages (1.23.2)\n",
      "Requirement already satisfied: sympy in /home/leo/.local/lib/python3.8/site-packages (1.11.1)\n",
      "Requirement already satisfied: pyparsing>=2.2.1 in /home/leo/.local/lib/python3.8/site-packages (from matplotlib) (3.0.9)\n",
      "Requirement already satisfied: kiwisolver>=1.0.1 in /home/leo/.local/lib/python3.8/site-packages (from matplotlib) (1.4.4)\n",
      "Requirement already satisfied: cycler>=0.10 in /home/leo/.local/lib/python3.8/site-packages (from matplotlib) (0.11.0)\n",
      "Requirement already satisfied: fonttools>=4.22.0 in /home/leo/.local/lib/python3.8/site-packages (from matplotlib) (4.37.1)\n",
      "Requirement already satisfied: python-dateutil>=2.7 in /home/leo/.local/lib/python3.8/site-packages (from matplotlib) (2.8.2)\n",
      "Requirement already satisfied: pillow>=6.2.0 in /usr/lib/python3/dist-packages (from matplotlib) (7.0.0)\n",
      "Requirement already satisfied: packaging>=20.0 in /home/leo/.local/lib/python3.8/site-packages (from matplotlib) (21.3)\n",
      "Requirement already satisfied: mpmath>=0.19 in /home/leo/.local/lib/python3.8/site-packages (from sympy) (1.2.1)\n",
      "Requirement already satisfied: six>=1.5 in /usr/lib/python3/dist-packages (from python-dateutil>=2.7->matplotlib) (1.14.0)\n"
     ]
    }
   ],
   "source": [
    "!pip3 install matplotlib numpy sympy\n",
    "import numpy as np\n",
    "import matplotlib.pyplot as plt\n",
    "import sympy as smp"
   ]
  },
  {
   "cell_type": "code",
   "execution_count": 2,
   "metadata": {},
   "outputs": [],
   "source": [
    "h0 = 0\n",
    "v0 = 870\n",
    "L = 1500\n",
    "k = 1.3 * 10 ** (-5)\n",
    "m = 13.6 / 1000\n"
   ]
  },
  {
   "cell_type": "code",
   "execution_count": 3,
   "metadata": {},
   "outputs": [
    {
     "name": "stdout",
     "output_type": "stream",
     "text": [
      "for sol {a: 0.00972118318116229, t: 1.72421940096865} max height is 3.64555853045729\n",
      "for sol {a: 1.56107514361373, t: 177.361649788719} max height is 38574.3360928457\n"
     ]
    }
   ],
   "source": [
    "a, t = smp.symbols(\"a, t\")\n",
    "\n",
    "\"\"\"\n",
    "create a system of equations\n",
    "0 = 0 + v0 sin(a) - gt^2 / 2\n",
    "L = v sin(a) * t\n",
    "\"\"\"\n",
    "\n",
    "eq1 = smp.Eq(0, h0 + v0 * smp.sin(a) * t - 9.81 * t ** 2 / 2)\n",
    "eq2 = smp.Eq(L, v0 * smp.cos(a) * t)\n",
    "\n",
    "sol = list(filter(lambda s: s[t] > 0 , smp.solve([eq1, eq2], [a, t], dict=True)))\n",
    "\n",
    "sol\n",
    "\n",
    "for s in sol:\n",
    "    hmax = v0 * smp.sin(s[a]) * (s[t] / 2) - 9.81 * (s[t] / 2) ** 2 / 2\n",
    "\n",
    "    print(f\"for sol {s} max height is {hmax}\")"
   ]
  },
  {
   "cell_type": "code",
   "execution_count": 4,
   "metadata": {},
   "outputs": [
    {
     "name": "stdout",
     "output_type": "stream",
     "text": [
      "     fun: 3.5189373244712856\n",
      " message: 'Solution found.'\n",
      "    nfev: 18\n",
      "     nit: 18\n",
      "  status: 0\n",
      " success: True\n",
      "       x: 0.009563100831781782\n",
      "     fun: 3.4065028518284803\n",
      " message: 'Solution found.'\n",
      "    nfev: 23\n",
      "     nit: 23\n",
      "  status: 0\n",
      " success: True\n",
      "       x: 1.5610758107611598\n"
     ]
    },
    {
     "name": "stderr",
     "output_type": "stream",
     "text": [
      "/home/leo/.local/lib/python3.8/site-packages/scipy/optimize/_minimize.py:870: RuntimeWarning: Method 'bounded' does not support relative tolerance in x; defaulting to absolute tolerance.\n",
      "  warn(\"Method 'bounded' does not support relative tolerance in x; \"\n"
     ]
    }
   ],
   "source": [
    "# function will estimate our position at the end with given starting angle for projectile\n",
    "\n",
    "from scipy.integrate import odeint\n",
    "\n",
    "\n",
    "def dSdx(S, x):\n",
    "    vx, vy = S\n",
    "    return [0, -9.81]\n",
    "\n",
    "\n",
    "def estimate_xy(angle: float) -> np.array:\n",
    "    v0x = v0 * np.cos(angle)\n",
    "    v0y = v0 * np.sin(angle)\n",
    "    S0 = [v0x, v0y]\n",
    "    t = np.linspace(0, 200, 10000)\n",
    "    sol = odeint(dSdx, S0, t)\n",
    "\n",
    "    # get position\n",
    "    x = np.cumsum(sol[:, 0]) * (t[1] - t[0])\n",
    "    y = np.cumsum(sol[:, 1]) * (t[1] - t[0])\n",
    "\n",
    "    # get time at which we reached x=L, y=0\n",
    "    curt = np.interp(L, x, t)\n",
    "    # get index of that time\n",
    "    i = np.argmin(np.abs(t - curt))\n",
    "    # get x and y at that time\n",
    "    x = x[i]\n",
    "    y = y[i]\n",
    "    return np.array([x, y])\n",
    "\n",
    "\n",
    "def position_error(angle: float) -> float:\n",
    "    x, y = estimate_xy(angle)\n",
    "    return np.sqrt((x - L) ** 2 + y**2)\n",
    "\n",
    "\n",
    "# use scipy to optimize position_error\n",
    "\n",
    "from scipy.optimize import minimize_scalar\n",
    "\n",
    "res_low = minimize_scalar(position_error, bounds=(0, 0.1), method=\"bounded\", tol=1e-20)\n",
    "print(res_low)\n",
    "\n",
    "res_high = minimize_scalar(\n",
    "    position_error, bounds=(1.5, 1.6), method=\"bounded\", tol=1e-20\n",
    ")\n",
    "print(res_high)\n"
   ]
  },
  {
   "cell_type": "code",
   "execution_count": 5,
   "metadata": {},
   "outputs": [
    {
     "data": {
      "text/plain": [
       "(array([ 1.49648122e+03, -3.36517635e-02]),\n",
       " array([1500.03311244,    3.40634192]))"
      ]
     },
     "execution_count": 5,
     "metadata": {},
     "output_type": "execute_result"
    }
   ],
   "source": [
    "estimate_xy(res_low.x), estimate_xy(res_high.x)\n"
   ]
  },
  {
   "cell_type": "code",
   "execution_count": 6,
   "metadata": {},
   "outputs": [
    {
     "name": "stdout",
     "output_type": "stream",
     "text": [
      "     fun: 0.015591272699437293\n",
      " message: 'Solution found.'\n",
      "    nfev: 22\n",
      "     nit: 22\n",
      "  status: 0\n",
      " success: True\n",
      "       x: 0.03248348942941089\n",
      "     fun: 15811.358438745445\n",
      " message: 'Solution found.'\n",
      "    nfev: 11\n",
      "     nit: 11\n",
      "  status: 0\n",
      " success: True\n",
      "       x: 1.4926250154223633\n"
     ]
    }
   ],
   "source": [
    "# function will estimate our position at the end with given starting angle for projectile\n",
    "\n",
    "\n",
    "from scipy.integrate import odeint\n",
    "\n",
    "def dSdx(S, x):\n",
    "    vx, vy = S\n",
    "    return [\n",
    "        -k / m * np.sqrt(vx**2 + vy**2) * vx,\n",
    "        -9.81 - k / m * np.sqrt(vx**2 + vy**2) * vy,\n",
    "    ]\n",
    "\n",
    "\n",
    "def estimate_xy(angle: float) -> np.array:\n",
    "    v0x = v0 * np.cos(angle)\n",
    "    v0y = v0 * np.sin(angle)\n",
    "    S0 = [v0x, v0y]\n",
    "    t = np.linspace(0, 200, 1000000)\n",
    "    sol = odeint(dSdx, S0, t)\n",
    "\n",
    "    # get position\n",
    "    x = np.cumsum(sol[:, 0]) * (t[1] - t[0])\n",
    "    y = np.cumsum(sol[:, 1]) * (t[1] - t[0])\n",
    "\n",
    "    # get time at which we reached x=L, y=0\n",
    "    curt = np.interp(L, x, t)\n",
    "    # get index of that time\n",
    "    i = np.argmin(np.abs(t - curt))\n",
    "    # get x and y at that time\n",
    "    x = x[i]\n",
    "    y = y[i]\n",
    "    return np.array([x, y])\n",
    "\n",
    "\n",
    "def position_error(angle: float) -> float:\n",
    "    x, y = estimate_xy(angle)\n",
    "    return np.sqrt((x - L) ** 2 + y**2)\n",
    "\n",
    "\n",
    "# use scipy to optimize position_error\n",
    "\n",
    "from scipy.optimize import minimize_scalar\n",
    "\n",
    "res_low = minimize_scalar(position_error, bounds=(0, 0.15), method=\"bounded\", tol=1e-20)\n",
    "print(res_low)\n",
    "\n",
    "res_high = minimize_scalar(\n",
    "    position_error, bounds=(1.2, 1.6), method=\"bounded\", tol=1e-30\n",
    ")\n",
    "print(res_high)\n"
   ]
  },
  {
   "cell_type": "code",
   "execution_count": 7,
   "metadata": {},
   "outputs": [
    {
     "data": {
      "image/png": "[encoded data removed]",
      "text/plain": [
       "<Figure size 640x480 with 1 Axes>"
      ]
     },
     "metadata": {},
     "output_type": "display_data"
    }
   ],
   "source": [
    "# seems like only res_low will satisfy our requirements\n",
    "\n",
    "res_angle = res_low.x\n",
    "\n",
    "# simulate system with such starting angle and store Fc\n",
    "\n",
    "from scipy.integrate import odeint\n",
    "\n",
    "forcex = []\n",
    "forcey = []\n",
    "\n",
    "\n",
    "def dSdx(S, x):\n",
    "    vx, vy = S\n",
    "    res = [\n",
    "        -k / m * np.sqrt(vx**2 + vy**2) * vx,\n",
    "        -9.81 - k / m * np.sqrt(vx**2 + vy**2) * vy,\n",
    "    ]\n",
    "\n",
    "    forcex.append(-k * np.sqrt(vx**2 + vy**2) * vx)\n",
    "    forcey.append(-k * np.sqrt(vx**2 + vy**2) * vy)\n",
    "\n",
    "    return res\n",
    "\n",
    "\n",
    "def estimate(angle: float) -> np.array:\n",
    "    v0x = v0 * np.cos(angle)\n",
    "    v0y = v0 * np.sin(angle)\n",
    "    S0 = [v0x, v0y]\n",
    "    t = np.linspace(0, 200, 10000)\n",
    "    sol = odeint(dSdx, S0, t)\n",
    "\n",
    "    # get position\n",
    "    x = np.cumsum(sol[:, 0]) * (t[1] - t[0])\n",
    "    y = np.cumsum(sol[:, 1]) * (t[1] - t[0])\n",
    "\n",
    "    # get time at which we reached x=L, y=0\n",
    "    curt = np.interp(L, x, t)\n",
    "    # get index of that time\n",
    "    i = np.argmin(np.abs(t - curt))\n",
    "    # get x and y at that time\n",
    "    x = x[i]\n",
    "    y = y[i]\n",
    "    return np.array([x, y, curt])\n",
    "\n",
    "\n",
    "x, y, t = estimate(res_angle)\n",
    "\n",
    "# plot Fc\n",
    "\n",
    "import matplotlib.pyplot as plt\n",
    "\n",
    "# set matplotlib style\n",
    "plt.grid()\n",
    "\n",
    "plt.plot(np.linspace(0, t, len(forcex)), forcex, label=\"Fc_x\")\n",
    "plt.plot(np.linspace(0, t, len(forcey)), forcey, label=\"Fc_y\")\n",
    "\n",
    "plt.legend()\n",
    "plt.show()\n"
   ]
  },
  {
   "cell_type": "code",
   "execution_count": null,
   "metadata": {},
   "outputs": [],
   "source": []
  }
 ],
 "metadata": {
  "kernelspec": {
   "display_name": "Python 3.8.10 64-bit",
   "language": "python",
   "name": "python3"
  },
  "language_info": {
   "codemirror_mode": {
    "name": "ipython",
    "version": 3
   },
   "file_extension": ".py",
   "mimetype": "text/x-python",
   "name": "python",
   "nbconvert_exporter": "python",
   "pygments_lexer": "ipython3",
   "version": "3.8.10"
  },
  "orig_nbformat": 4,
  "vscode": {
   "interpreter": {
    "hash": "916dbcbb3f70747c44a77c7bcd40155683ae19c65e1c03b4aa3499c5328201f1"
   }
  }
 },
 "nbformat": 4,
 "nbformat_minor": 2
}
